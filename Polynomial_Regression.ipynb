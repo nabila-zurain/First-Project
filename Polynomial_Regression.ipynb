{
  "cells": [
    {
      "cell_type": "markdown",
      "metadata": {
        "id": "view-in-github",
        "colab_type": "text"
      },
      "source": [
        "<a href=\"https://colab.research.google.com/github/nabila-zurain/First-Project/blob/main/Polynomial_Regression.ipynb\" target=\"_parent\"><img src=\"https://colab.research.google.com/assets/colab-badge.svg\" alt=\"Open In Colab\"/></a>"
      ]
    },
    {
      "cell_type": "code",
      "execution_count": null,
      "metadata": {
        "id": "Hfzo8vO1Lgks"
      },
      "outputs": [],
      "source": [
        "# Polynomial Regression\n",
        "# A regression algorithm that models the relationship between a dependent(y) and independent variable(x) as nth degree polynomial.\n",
        "# It is a linear model with some modification in order to increase the accuracy.If you increase the degree of independent variable you will give\n",
        "# more accurate prediction\n",
        "# Polynomial Regression equation: y= b0+b1x + b2x2+ b3x3+....+ bnxn \n",
        "# or Polynomial Regression curve is given as y=w1x+w2x²+..+b \n"
      ]
    },
    {
      "cell_type": "code",
      "execution_count": null,
      "metadata": {
        "colab": {
          "base_uri": "https://localhost:8080/"
        },
        "id": "OQB6IU40Zhie",
        "outputId": "08f5b26e-2b33-4c1a-da9e-d0dc6da6f5ce"
      },
      "outputs": [
        {
          "name": "stdout",
          "output_type": "stream",
          "text": [
            "<class 'pandas.core.frame.DataFrame'>\n"
          ]
        }
      ],
      "source": [
        "# Polynomial Regression\n",
        "# In Polynomial regression, the original features are converted into Polynomial features of required degree (2,3,..,n) and then modeled using a linear model.\n",
        "import numpy as nm\n",
        "import matplotlib.pyplot as mtp\n",
        "import pandas as pd\n",
        "\n",
        "# importing dataset\n",
        "data_set = pd.read_csv('https://trello-attachments.s3.amazonaws.com/6062c6af283e86843a32b025/60d0152706cf05391bac797c/164d4521d23ff95a2989c5f66e08ff33/Position_Salaries.csv')\n",
        "data_set.head()\n",
        "print(type(data_set))"
      ]
    },
    {
      "cell_type": "code",
      "execution_count": null,
      "metadata": {
        "id": "gsE4dbyAmVLU"
      },
      "outputs": [],
      "source": [
        "# Extracting Independent Variable and Dependent Variable\n",
        "x = data_set.Level.values[:,nm.newaxis] # inside square bracket is to convert 1d of independent to 2d\n",
        "y = data_set.Salary.values"
      ]
    },
    {
      "cell_type": "code",
      "execution_count": null,
      "metadata": {
        "colab": {
          "base_uri": "https://localhost:8080/"
        },
        "id": "HxlV3N-qnoNR",
        "outputId": "3d55cadb-e96e-4087-eca6-1ad2ca86a1e3"
      },
      "outputs": [
        {
          "data": {
            "text/plain": [
              "array([[ 1],\n",
              "       [ 2],\n",
              "       [ 3],\n",
              "       [ 4],\n",
              "       [ 5],\n",
              "       [ 6],\n",
              "       [ 7],\n",
              "       [ 8],\n",
              "       [ 9],\n",
              "       [10]])"
            ]
          },
          "execution_count": 6,
          "metadata": {},
          "output_type": "execute_result"
        }
      ],
      "source": [
        "x"
      ]
    },
    {
      "cell_type": "code",
      "execution_count": null,
      "metadata": {
        "colab": {
          "base_uri": "https://localhost:8080/"
        },
        "id": "kq6PJ6SRnqFP",
        "outputId": "f17829a4-8f27-4fed-f201-b88bab9a09bd"
      },
      "outputs": [
        {
          "data": {
            "text/plain": [
              "array([  45000,   50000,   60000,   80000,  110000,  150000,  200000,\n",
              "        300000,  500000, 1000000])"
            ]
          },
          "execution_count": 7,
          "metadata": {},
          "output_type": "execute_result"
        }
      ],
      "source": [
        "y"
      ]
    },
    {
      "cell_type": "code",
      "execution_count": null,
      "metadata": {
        "colab": {
          "base_uri": "https://localhost:8080/"
        },
        "id": "M6UqQicCtwNq",
        "outputId": "d4898f14-930e-435b-93ab-827b29518531"
      },
      "outputs": [
        {
          "data": {
            "text/plain": [
              "LinearRegression()"
            ]
          },
          "execution_count": 8,
          "metadata": {},
          "output_type": "execute_result"
        }
      ],
      "source": [
        "# Building The Linear Regression Model\n",
        "# Fitting the linear regression to the dataset\n",
        "from sklearn.linear_model import LinearRegression # from package import class\n",
        "lin_regs = LinearRegression() # create object for the class so that easy to call method e.g fit and predict\n",
        "lin_regs.fit(x,y) # Pass independent and dependent into fit method\n",
        "# linear regression will be applied into dataset"
      ]
    },
    {
      "cell_type": "code",
      "execution_count": null,
      "metadata": {
        "colab": {
          "base_uri": "https://localhost:8080/"
        },
        "id": "UPfdiHT_xilC",
        "outputId": "a54212c1-05ec-4624-a794-3516ddaf8c78"
      },
      "outputs": [
        {
          "data": {
            "text/plain": [
              "array([[  1.,   1.,   1.],\n",
              "       [  1.,   2.,   4.],\n",
              "       [  1.,   3.,   9.],\n",
              "       [  1.,   4.,  16.],\n",
              "       [  1.,   5.,  25.],\n",
              "       [  1.,   6.,  36.],\n",
              "       [  1.,   7.,  49.],\n",
              "       [  1.,   8.,  64.],\n",
              "       [  1.,   9.,  81.],\n",
              "       [  1.,  10., 100.]])"
            ]
          },
          "execution_count": 9,
          "metadata": {},
          "output_type": "execute_result"
        }
      ],
      "source": [
        "# Fitting the polynomial regression to the dataset\n",
        "from sklearn.preprocessing import PolynomialFeatures\n",
        "# create object\n",
        "# need to pass parameter in PolynomialFeatures\n",
        "# increase the degree of independent value # by default degree = 2\n",
        "poly_regs = PolynomialFeatures(degree = 2)\n",
        "#.fit_transform--> a method which fit to data, then transform it(degree of independent variable will be increase) \n",
        "# specify parameter independent and create a new variable\n",
        "x_poly = poly_regs.fit_transform(x) \n",
        "x_poly\n",
        "\n",
        "# When degree is set to 2 the features created will be 1, x1, x^2\n",
        "# 1, 1X1, 1^2\n",
        "# 1, 2X1, 2^2"
      ]
    },
    {
      "cell_type": "code",
      "execution_count": null,
      "metadata": {
        "colab": {
          "base_uri": "https://localhost:8080/"
        },
        "id": "BlZohiTs16YW",
        "outputId": "badf5484-95a4-469f-868f-9b60208f512e"
      },
      "outputs": [
        {
          "data": {
            "text/plain": [
              "LinearRegression()"
            ]
          },
          "execution_count": 10,
          "metadata": {},
          "output_type": "execute_result"
        }
      ],
      "source": [
        "# after increasing degree, then apply linear regression model\n",
        "lin_reg_2 = LinearRegression() # create object\n",
        "lin_reg_2.fit(x_poly,y) # use x which has increased in degrees"
      ]
    },
    {
      "cell_type": "code",
      "execution_count": null,
      "metadata": {
        "colab": {
          "base_uri": "https://localhost:8080/",
          "height": 295
        },
        "id": "NA9FMcbr50fn",
        "outputId": "04136359-a949-4148-d96d-cbc0738948d1"
      },
      "outputs": [
        {
          "output_type": "display_data",
          "data": {
            "text/plain": [
              "<Figure size 432x288 with 1 Axes>"
            ],
            "image/png": "[encoded data removed]"
          },
          "metadata": {
            "needs_background": "light"
          }
        }
      ],
      "source": [
        "# Visualizing the result for linear regression model\n",
        "mtp.scatter(x,y,color='blue', label = \"Actual\")\n",
        "mtp.plot(x,lin_regs.predict(x),color='red', label= \"Predicted\")\n",
        "mtp.title('Detection Model Using Linear Regression')\n",
        "mtp.xlabel('Position Levels')\n",
        "mtp.ylabel('Salary')\n",
        "mtp.legend()\n",
        "mtp.show()"
      ]
    },
    {
      "cell_type": "code",
      "execution_count": null,
      "metadata": {
        "colab": {
          "base_uri": "https://localhost:8080/",
          "height": 294
        },
        "id": "DTtWABmY8_yd",
        "outputId": "37d26e8c-3573-4631-ebe0-796ed053169d"
      },
      "outputs": [
        {
          "data": {
            "image/png": "[encoded data removed]",
            "text/plain": [
              "<Figure size 432x288 with 1 Axes>"
            ]
          },
          "metadata": {},
          "output_type": "display_data"
        }
      ],
      "source": [
        "# Visualizing the result for polynomial regression\n",
        "mtp.scatter(x,y,color='blue')\n",
        "mtp.plot(x,lin_reg_2.predict(x_poly),color='red')\n",
        "mtp.title('Detection Model Using Polynomial Regression')\n",
        "mtp.xlabel('Position Levels')\n",
        "mtp.ylabel('Salary')\n",
        "mtp.show()"
      ]
    },
    {
      "cell_type": "code",
      "execution_count": null,
      "metadata": {
        "colab": {
          "base_uri": "https://localhost:8080/"
        },
        "id": "J9VA71Gm_FBM",
        "outputId": "9eb385e6-12ef-4c93-e598-9c720bc246d3"
      },
      "outputs": [
        {
          "data": {
            "text/plain": [
              "LinearRegression()"
            ]
          },
          "execution_count": 16,
          "metadata": {},
          "output_type": "execute_result"
        }
      ],
      "source": [
        "# For degree = 3\n",
        "\n",
        "poly_regs = PolynomialFeatures(degree = 3) # increase the degree of independent value\n",
        "x_poly = poly_regs.fit_transform(x) # specify parameter independent and create a new variable\n",
        "# apply linear regression model but this time the degree = 3\n",
        "lin_reg_2 = LinearRegression() # create object\n",
        "lin_reg_2.fit(x_poly,y) # use x which has increased in degrees"
      ]
    },
    {
      "cell_type": "code",
      "execution_count": null,
      "metadata": {
        "colab": {
          "base_uri": "https://localhost:8080/",
          "height": 294
        },
        "id": "Ja1KHfQVAX0R",
        "outputId": "c72406da-299f-43d5-93e8-9a3b27d8a1f9"
      },
      "outputs": [
        {
          "data": {
            "image/png": "[encoded data removed]",
            "text/plain": [
              "<Figure size 432x288 with 1 Axes>"
            ]
          },
          "metadata": {},
          "output_type": "display_data"
        }
      ],
      "source": [
        "# Visualizing the result for polynomial regression when degree = 3\n",
        "mtp.scatter(x,y,color='blue')\n",
        "mtp.plot(x,lin_reg_2.predict(x_poly),color='red')\n",
        "mtp.title('Detection Model Using Polynomial Regression')\n",
        "mtp.xlabel('Position Levels')\n",
        "mtp.ylabel('Salary')\n",
        "mtp.show()"
      ]
    },
    {
      "cell_type": "code",
      "execution_count": null,
      "metadata": {
        "colab": {
          "base_uri": "https://localhost:8080/"
        },
        "id": "Snzy4FNbA5xL",
        "outputId": "17558ef2-abfa-46cc-b859-adb9dd459d41"
      },
      "outputs": [
        {
          "data": {
            "text/plain": [
              "LinearRegression()"
            ]
          },
          "execution_count": 30,
          "metadata": {},
          "output_type": "execute_result"
        }
      ],
      "source": [
        "# For degree = 4\n",
        "\n",
        "poly_regs = PolynomialFeatures(degree = 4) # increase the degree of independent value\n",
        "x_poly = poly_regs.fit_transform(x) # specify parameter independent and create a new variable\n",
        "# apply linear regression model but this time the degree = 4\n",
        "lin_reg_2 = LinearRegression() # create object\n",
        "lin_reg_2.fit(x_poly,y) # use x which has increased in degrees"
      ]
    },
    {
      "cell_type": "code",
      "execution_count": null,
      "metadata": {
        "colab": {
          "base_uri": "https://localhost:8080/",
          "height": 294
        },
        "id": "DHpB5xIsA_3f",
        "outputId": "c0e38f4a-f515-4bf0-b830-f641643ff32b"
      },
      "outputs": [
        {
          "data": {
            "image/png": "[encoded data removed]",
            "text/plain": [
              "<Figure size 432x288 with 1 Axes>"
            ]
          },
          "metadata": {},
          "output_type": "display_data"
        }
      ],
      "source": [
        "# Visualizing the result for polynomial regression when degree = 4\n",
        "mtp.scatter(x,y,color='blue')\n",
        "mtp.plot(x,lin_reg_2.predict(x_poly),color='red')\n",
        "mtp.title('Detection Model Using Polynomial Regression')\n",
        "mtp.xlabel('Position Levels')\n",
        "mtp.ylabel('Salary')\n",
        "mtp.show()"
      ]
    },
    {
      "cell_type": "code",
      "execution_count": null,
      "metadata": {
        "colab": {
          "base_uri": "https://localhost:8080/"
        },
        "id": "Qmu2GTSfBc7m",
        "outputId": "8a9cfb1e-aa52-409b-cab9-8cac2065ee4d"
      },
      "outputs": [
        {
          "name": "stdout",
          "output_type": "stream",
          "text": [
            "[330378.78787879]\n"
          ]
        }
      ],
      "source": [
        "# Predicting the final output with Linear Regression Model\n",
        "\n",
        "lin_pred = lin_regs.predict([[6.5]])\n",
        "print(lin_pred)"
      ]
    },
    {
      "cell_type": "code",
      "execution_count": null,
      "metadata": {
        "colab": {
          "base_uri": "https://localhost:8080/"
        },
        "id": "3hl2rPkLOZ3t",
        "outputId": "1b236b0c-7ca5-4812-eb9d-bdf1656730a0"
      },
      "outputs": [
        {
          "name": "stdout",
          "output_type": "stream",
          "text": [
            "[158862.45265155]\n"
          ]
        }
      ],
      "source": [
        "#  Predicting the final output with Polynomial Regression Model\n",
        "\n",
        "poly_pred = lin_reg_2.predict(poly_regs.fit_transform([[6.5]])) # here cannot replace poly_regs.fit_transform with object x_poly\n",
        "print(poly_pred)"
      ]
    }
  ],
  "metadata": {
    "colab": {
      "collapsed_sections": [],
      "provenance": [],
      "authorship_tag": "ABX9TyOj7vSixxlTvl23/fhvQmjE",
      "include_colab_link": true
    },
    "kernelspec": {
      "display_name": "Python 3",
      "name": "python3"
    },
    "language_info": {
      "name": "python"
    }
  },
  "nbformat": 4,
  "nbformat_minor": 0
}
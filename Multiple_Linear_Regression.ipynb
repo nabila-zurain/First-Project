{
  "nbformat": 4,
  "nbformat_minor": 0,
  "metadata": {
    "colab": {
      "provenance": [],
      "collapsed_sections": [],
      "authorship_tag": "ABX9TyMUkAeoamDbAuHlmyqfjjAe",
      "include_colab_link": true
    },
    "kernelspec": {
      "name": "python3",
      "display_name": "Python 3"
    },
    "language_info": {
      "name": "python"
    }
  },
  "cells": [
    {
      "cell_type": "markdown",
      "metadata": {
        "id": "view-in-github",
        "colab_type": "text"
      },
      "source": [
        "<a href=\"https://colab.research.google.com/github/nabila-zurain/First-Project/blob/main/Multiple_Linear_Regression.ipynb\" target=\"_parent\"><img src=\"https://colab.research.google.com/assets/colab-badge.svg\" alt=\"Open In Colab\"/></a>"
      ]
    },
    {
      "cell_type": "code",
      "metadata": {
        "id": "Z0zaD0WZSevw"
      },
      "source": [
        "# Multiple Linear Regression\n",
        "# When dependent variable(y) is affected by more than one independent variable\n",
        "# Models the linear relationship between a single dependent continuous variable and more than one independent variable\n",
        "# Import libraries\n",
        "\n",
        "import numpy as nm\n",
        "import matplotlib.pyplot as mtp\n",
        "import pandas as pd"
      ],
      "execution_count": null,
      "outputs": []
    },
    {
      "cell_type": "code",
      "metadata": {
        "colab": {
          "base_uri": "https://localhost:8080/",
          "height": 206
        },
        "id": "BIjhIuBHE90Q",
        "outputId": "33b8546e-aa76-4d70-fa95-40c05bd11b03"
      },
      "source": [
        "# importing dataset\n",
        "data_set = pd.read_csv('https://trello-attachments.s3.amazonaws.com/6062c6af283e86843a32b025/60d0152706cf05391bac797c/0ced7d9ccd720cb82d87e6ff95ee701c/Startups_Data.csv')\n",
        "data_set.head()"
      ],
      "execution_count": null,
      "outputs": [
        {
          "output_type": "execute_result",
          "data": {
            "text/plain": [
              "   R&D Spend  Administration  Marketing Spend       State     Profit\n",
              "0  165349.20       136897.80        471784.10    New York  192261.83\n",
              "1  162597.70       151377.59        443898.53  California  191792.06\n",
              "2  153441.51       101145.55        407934.54     Florida  191050.39\n",
              "3  144372.41       118671.85        383199.62    New York  182901.99\n",
              "4  142107.34        91391.77        366168.42     Florida  166187.94"
            ],
            "text/html": [
              "\n",
              "  <div id=\"df-64688276-5118-458c-84e6-f517c07854d2\">\n",
              "    <div class=\"colab-df-container\">\n",
              "      <div>\n",
              "<style scoped>\n",
              "    .dataframe tbody tr th:only-of-type {\n",
              "        vertical-align: middle;\n",
              "    }\n",
              "\n",
              "    .dataframe tbody tr th {\n",
              "        vertical-align: top;\n",
              "    }\n",
              "\n",
              "    .dataframe thead th {\n",
              "        text-align: right;\n",
              "    }\n",
              "</style>\n",
              "<table border=\"1\" class=\"dataframe\">\n",
              "  <thead>\n",
              "    <tr style=\"text-align: right;\">\n",
              "      <th></th>\n",
              "      <th>R&amp;D Spend</th>\n",
              "      <th>Administration</th>\n",
              "      <th>Marketing Spend</th>\n",
              "      <th>State</th>\n",
              "      <th>Profit</th>\n",
              "    </tr>\n",
              "  </thead>\n",
              "  <tbody>\n",
              "    <tr>\n",
              "      <th>0</th>\n",
              "      <td>165349.20</td>\n",
              "      <td>136897.80</td>\n",
              "      <td>471784.10</td>\n",
              "      <td>New York</td>\n",
              "      <td>192261.83</td>\n",
              "    </tr>\n",
              "    <tr>\n",
              "      <th>1</th>\n",
              "      <td>162597.70</td>\n",
              "      <td>151377.59</td>\n",
              "      <td>443898.53</td>\n",
              "      <td>California</td>\n",
              "      <td>191792.06</td>\n",
              "    </tr>\n",
              "    <tr>\n",
              "      <th>2</th>\n",
              "      <td>153441.51</td>\n",
              "      <td>101145.55</td>\n",
              "      <td>407934.54</td>\n",
              "      <td>Florida</td>\n",
              "      <td>191050.39</td>\n",
              "    </tr>\n",
              "    <tr>\n",
              "      <th>3</th>\n",
              "      <td>144372.41</td>\n",
              "      <td>118671.85</td>\n",
              "      <td>383199.62</td>\n",
              "      <td>New York</td>\n",
              "      <td>182901.99</td>\n",
              "    </tr>\n",
              "    <tr>\n",
              "      <th>4</th>\n",
              "      <td>142107.34</td>\n",
              "      <td>91391.77</td>\n",
              "      <td>366168.42</td>\n",
              "      <td>Florida</td>\n",
              "      <td>166187.94</td>\n",
              "    </tr>\n",
              "  </tbody>\n",
              "</table>\n",
              "</div>\n",
              "      <button class=\"colab-df-convert\" onclick=\"convertToInteractive('df-64688276-5118-458c-84e6-f517c07854d2')\"\n",
              "              title=\"Convert this dataframe to an interactive table.\"\n",
              "              style=\"display:none;\">\n",
              "        \n",
              "  <svg xmlns=\"http://www.w3.org/2000/svg\" height=\"24px\"viewBox=\"0 0 24 24\"\n",
              "       width=\"24px\">\n",
              "    <path d=\"M0 0h24v24H0V0z\" fill=\"none\"/>\n",
              "    <path d=\"M18.56 5.44l.94 2.06.94-2.06 2.06-.94-2.06-.94-.94-2.06-.94 2.06-2.06.94zm-11 1L8.5 8.5l.94-2.06 2.06-.94-2.06-.94L8.5 2.5l-.94 2.06-2.06.94zm10 10l.94 2.06.94-2.06 2.06-.94-2.06-.94-.94-2.06-.94 2.06-2.06.94z\"/><path d=\"M17.41 7.96l-1.37-1.37c-.4-.4-.92-.59-1.43-.59-.52 0-1.04.2-1.43.59L10.3 9.45l-7.72 7.72c-.78.78-.78 2.05 0 2.83L4 21.41c.39.39.9.59 1.41.59.51 0 1.02-.2 1.41-.59l7.78-7.78 2.81-2.81c.8-.78.8-2.07 0-2.86zM5.41 20L4 18.59l7.72-7.72 1.47 1.35L5.41 20z\"/>\n",
              "  </svg>\n",
              "      </button>\n",
              "      \n",
              "  <style>\n",
              "    .colab-df-container {\n",
              "      display:flex;\n",
              "      flex-wrap:wrap;\n",
              "      gap: 12px;\n",
              "    }\n",
              "\n",
              "    .colab-df-convert {\n",
              "      background-color: #E8F0FE;\n",
              "      border: none;\n",
              "      border-radius: 50%;\n",
              "      cursor: pointer;\n",
              "      display: none;\n",
              "      fill: #1967D2;\n",
              "      height: 32px;\n",
              "      padding: 0 0 0 0;\n",
              "      width: 32px;\n",
              "    }\n",
              "\n",
              "    .colab-df-convert:hover {\n",
              "      background-color: #E2EBFA;\n",
              "      box-shadow: 0px 1px 2px rgba(60, 64, 67, 0.3), 0px 1px 3px 1px rgba(60, 64, 67, 0.15);\n",
              "      fill: #174EA6;\n",
              "    }\n",
              "\n",
              "    [theme=dark] .colab-df-convert {\n",
              "      background-color: #3B4455;\n",
              "      fill: #D2E3FC;\n",
              "    }\n",
              "\n",
              "    [theme=dark] .colab-df-convert:hover {\n",
              "      background-color: #434B5C;\n",
              "      box-shadow: 0px 1px 3px 1px rgba(0, 0, 0, 0.15);\n",
              "      filter: drop-shadow(0px 1px 2px rgba(0, 0, 0, 0.3));\n",
              "      fill: #FFFFFF;\n",
              "    }\n",
              "  </style>\n",
              "\n",
              "      <script>\n",
              "        const buttonEl =\n",
              "          document.querySelector('#df-64688276-5118-458c-84e6-f517c07854d2 button.colab-df-convert');\n",
              "        buttonEl.style.display =\n",
              "          google.colab.kernel.accessAllowed ? 'block' : 'none';\n",
              "\n",
              "        async function convertToInteractive(key) {\n",
              "          const element = document.querySelector('#df-64688276-5118-458c-84e6-f517c07854d2');\n",
              "          const dataTable =\n",
              "            await google.colab.kernel.invokeFunction('convertToInteractive',\n",
              "                                                     [key], {});\n",
              "          if (!dataTable) return;\n",
              "\n",
              "          const docLinkHtml = 'Like what you see? Visit the ' +\n",
              "            '<a target=\"_blank\" href=https://colab.research.google.com/notebooks/data_table.ipynb>data table notebook</a>'\n",
              "            + ' to learn more about interactive tables.';\n",
              "          element.innerHTML = '';\n",
              "          dataTable['output_type'] = 'display_data';\n",
              "          await google.colab.output.renderOutput(dataTable, element);\n",
              "          const docLink = document.createElement('div');\n",
              "          docLink.innerHTML = docLinkHtml;\n",
              "          element.appendChild(docLink);\n",
              "        }\n",
              "      </script>\n",
              "    </div>\n",
              "  </div>\n",
              "  "
            ]
          },
          "metadata": {},
          "execution_count": 2
        }
      ]
    },
    {
      "cell_type": "code",
      "metadata": {
        "id": "eFU0ZwsbGflD"
      },
      "source": [
        "# Extracting independent and dependent variable\n",
        "x = data_set.iloc[:,:-1].values # iloc = index location. -1 at the end means not include profit. \n",
        "# so it extract column: R&D Spend, Administration, Marketing Spend and State\n",
        "# Another way you can do is data_set.iloc[:,:4] as dataframe.iloc[:,start_col:end_col] ---> result from start column and end column -1\n",
        "y = data_set.iloc[:,4]\n",
        "# only extract values from profit column"
      ],
      "execution_count": null,
      "outputs": []
    },
    {
      "cell_type": "code",
      "source": [
        "x\n",
        "# R&D Spend , Administration , Marketing Spend, State"
      ],
      "metadata": {
        "colab": {
          "base_uri": "https://localhost:8080/"
        },
        "id": "Z6k47LhLZ2vC",
        "outputId": "d25bc8c9-12eb-483f-b425-283ba2524e0e"
      },
      "execution_count": null,
      "outputs": [
        {
          "output_type": "execute_result",
          "data": {
            "text/plain": [
              "array([[165349.2, 136897.8, 471784.1, 'New York'],\n",
              "       [162597.7, 151377.59, 443898.53, 'California'],\n",
              "       [153441.51, 101145.55, 407934.54, 'Florida'],\n",
              "       [144372.41, 118671.85, 383199.62, 'New York'],\n",
              "       [142107.34, 91391.77, 366168.42, 'Florida'],\n",
              "       [131876.9, 99814.71, 362861.36, 'New York'],\n",
              "       [134615.46, 147198.87, 127716.82, 'California'],\n",
              "       [130298.13, 145530.06, 323876.68, 'Florida'],\n",
              "       [120542.52, 148718.95, 311613.29, 'New York'],\n",
              "       [123334.88, 108679.17, 304981.62, 'California'],\n",
              "       [101913.08, 110594.11, 229160.95, 'Florida'],\n",
              "       [100671.96, 91790.61, 249744.55, 'California'],\n",
              "       [93863.75, 127320.38, 249839.44, 'Florida'],\n",
              "       [91992.39, 135495.07, 252664.93, 'California'],\n",
              "       [119943.24, 156547.42, 256512.92, 'Florida'],\n",
              "       [114523.61, 122616.84, 261776.23, 'New York'],\n",
              "       [78013.11, 121597.55, 264346.06, 'California'],\n",
              "       [94657.16, 145077.58, 282574.31, 'New York'],\n",
              "       [91749.16, 114175.79, 294919.57, 'Florida'],\n",
              "       [86419.7, 153514.11, 0.0, 'New York'],\n",
              "       [76253.86, 113867.3, 298664.47, 'California'],\n",
              "       [78389.47, 153773.43, 299737.29, 'New York'],\n",
              "       [73994.56, 122782.75, 303319.26, 'Florida'],\n",
              "       [67532.53, 105751.03, 304768.73, 'Florida'],\n",
              "       [77044.01, 99281.34, 140574.81, 'New York'],\n",
              "       [64664.71, 139553.16, 137962.62, 'California'],\n",
              "       [75328.87, 144135.98, 134050.07, 'Florida'],\n",
              "       [72107.6, 127864.55, 353183.81, 'New York'],\n",
              "       [66051.52, 182645.56, 118148.2, 'Florida'],\n",
              "       [65605.48, 153032.06, 107138.38, 'New York'],\n",
              "       [61994.48, 115641.28, 91131.24, 'Florida'],\n",
              "       [61136.38, 152701.92, 88218.23, 'New York'],\n",
              "       [63408.86, 129219.61, 46085.25, 'California'],\n",
              "       [55493.95, 103057.49, 214634.81, 'Florida'],\n",
              "       [46426.07, 157693.92, 210797.67, 'California'],\n",
              "       [46014.02, 85047.44, 205517.64, 'New York'],\n",
              "       [28663.76, 127056.21, 201126.82, 'Florida'],\n",
              "       [44069.95, 51283.14, 197029.42, 'California'],\n",
              "       [20229.59, 65947.93, 185265.1, 'New York'],\n",
              "       [38558.51, 82982.09, 174999.3, 'California'],\n",
              "       [28754.33, 118546.05, 172795.67, 'California'],\n",
              "       [27892.92, 84710.77, 164470.71, 'Florida'],\n",
              "       [23640.93, 96189.63, 148001.11, 'California'],\n",
              "       [15505.73, 127382.3, 35534.17, 'New York'],\n",
              "       [22177.74, 154806.14, 28334.72, 'California'],\n",
              "       [1000.23, 124153.04, 1903.93, 'New York'],\n",
              "       [1315.46, 115816.21, 297114.46, 'Florida'],\n",
              "       [0.0, 135426.92, 0.0, 'California'],\n",
              "       [542.05, 51743.15, 0.0, 'New York'],\n",
              "       [0.0, 116983.8, 45173.06, 'California']], dtype=object)"
            ]
          },
          "metadata": {},
          "execution_count": 20
        }
      ]
    },
    {
      "cell_type": "code",
      "source": [
        "y\n",
        "# Profit"
      ],
      "metadata": {
        "id": "DypfbamgZ4u4",
        "outputId": "7f044293-501e-403f-d778-77075f2ed14e",
        "colab": {
          "base_uri": "https://localhost:8080/"
        }
      },
      "execution_count": null,
      "outputs": [
        {
          "output_type": "execute_result",
          "data": {
            "text/plain": [
              "0     192261.83\n",
              "1     191792.06\n",
              "2     191050.39\n",
              "3     182901.99\n",
              "4     166187.94\n",
              "5     156991.12\n",
              "6     156122.51\n",
              "7     155752.60\n",
              "8     152211.77\n",
              "9     149759.96\n",
              "10    146121.95\n",
              "11    144259.40\n",
              "12    141585.52\n",
              "13    134307.35\n",
              "14    132602.65\n",
              "15    129917.04\n",
              "16    126992.93\n",
              "17    125370.37\n",
              "18    124266.90\n",
              "19    122776.86\n",
              "20    118474.03\n",
              "21    111313.02\n",
              "22    110352.25\n",
              "23    108733.99\n",
              "24    108552.04\n",
              "25    107404.34\n",
              "26    105733.54\n",
              "27    105008.31\n",
              "28    103282.38\n",
              "29    101004.64\n",
              "30     99937.59\n",
              "31     97483.56\n",
              "32     97427.84\n",
              "33     96778.92\n",
              "34     96712.80\n",
              "35     96479.51\n",
              "36     90708.19\n",
              "37     89949.14\n",
              "38     81229.06\n",
              "39     81005.76\n",
              "40     78239.91\n",
              "41     77798.83\n",
              "42     71498.49\n",
              "43     69758.98\n",
              "44     65200.33\n",
              "45     64926.08\n",
              "46     49490.75\n",
              "47     42559.73\n",
              "48     35673.41\n",
              "49     14681.40\n",
              "Name: Profit, dtype: float64"
            ]
          },
          "metadata": {},
          "execution_count": 21
        }
      ]
    },
    {
      "cell_type": "code",
      "metadata": {
        "id": "hXOmbuLDwfpj",
        "colab": {
          "base_uri": "https://localhost:8080/"
        },
        "outputId": "48351a25-cfaf-44d3-8680-184f8c8b74ef"
      },
      "source": [
        "# Encoding Dummy Variables\n",
        "# Use LabelEncoder class to convert categorical into numbers\n",
        "# One Hot Encoder\n",
        "from sklearn.preprocessing import LabelEncoder, OneHotEncoder\n",
        "from sklearn.compose import ColumnTransformer\n",
        "# create object for the class\n",
        "labelencoder_x = LabelEncoder() \n",
        "# replace the column after transformation # from independent variable you only pass index 3 (state column) only\n",
        "x[:,3] = labelencoder_x.fit_transform(x[:,3]) \n",
        "x[:,3]"
      ],
      "execution_count": null,
      "outputs": [
        {
          "output_type": "execute_result",
          "data": {
            "text/plain": [
              "array([2, 0, 1, 2, 1, 2, 0, 1, 2, 0, 1, 0, 1, 0, 1, 2, 0, 2, 1, 2, 0, 2,\n",
              "       1, 1, 2, 0, 1, 2, 1, 2, 1, 2, 0, 1, 0, 2, 1, 0, 2, 0, 0, 1, 0, 2,\n",
              "       0, 2, 1, 0, 2, 0], dtype=object)"
            ]
          },
          "metadata": {},
          "execution_count": 23
        }
      ]
    },
    {
      "cell_type": "code",
      "metadata": {
        "id": "-jHLwTyb0iYo"
      },
      "source": [
        "transformer = ColumnTransformer(\n",
        "    transformers = [\n",
        "                    (\"OneHot\",  # just a name\n",
        "                     OneHotEncoder(), # the transformer class\n",
        "                     [3]) # the column to be applied on\n",
        "    ],\n",
        "    remainder = 'passthrough'   # passthrough means do not apply anything to the remaining column\n",
        ")\n",
        "x = transformer.fit_transform(x.tolist()) # give result in list\n",
        "x = x.astype('int')"
      ],
      "execution_count": null,
      "outputs": []
    },
    {
      "cell_type": "code",
      "metadata": {
        "colab": {
          "base_uri": "https://localhost:8080/"
        },
        "id": "kdTADw2Mt6g-",
        "outputId": "54c29a04-d1e9-462b-fcc2-09a89f96278b"
      },
      "source": [
        "x\n",
        "\n",
        "# [california florida newYork  r&d     admin    marketing]\n",
        "# [0          0        1       165349   136897  471784   ]"
      ],
      "execution_count": null,
      "outputs": [
        {
          "output_type": "execute_result",
          "data": {
            "text/plain": [
              "array([[     0,      0,      1, 165349, 136897, 471784],\n",
              "       [     1,      0,      0, 162597, 151377, 443898],\n",
              "       [     0,      1,      0, 153441, 101145, 407934],\n",
              "       [     0,      0,      1, 144372, 118671, 383199],\n",
              "       [     0,      1,      0, 142107,  91391, 366168],\n",
              "       [     0,      0,      1, 131876,  99814, 362861],\n",
              "       [     1,      0,      0, 134615, 147198, 127716],\n",
              "       [     0,      1,      0, 130298, 145530, 323876],\n",
              "       [     0,      0,      1, 120542, 148718, 311613],\n",
              "       [     1,      0,      0, 123334, 108679, 304981],\n",
              "       [     0,      1,      0, 101913, 110594, 229160],\n",
              "       [     1,      0,      0, 100671,  91790, 249744],\n",
              "       [     0,      1,      0,  93863, 127320, 249839],\n",
              "       [     1,      0,      0,  91992, 135495, 252664],\n",
              "       [     0,      1,      0, 119943, 156547, 256512],\n",
              "       [     0,      0,      1, 114523, 122616, 261776],\n",
              "       [     1,      0,      0,  78013, 121597, 264346],\n",
              "       [     0,      0,      1,  94657, 145077, 282574],\n",
              "       [     0,      1,      0,  91749, 114175, 294919],\n",
              "       [     0,      0,      1,  86419, 153514,      0],\n",
              "       [     1,      0,      0,  76253, 113867, 298664],\n",
              "       [     0,      0,      1,  78389, 153773, 299737],\n",
              "       [     0,      1,      0,  73994, 122782, 303319],\n",
              "       [     0,      1,      0,  67532, 105751, 304768],\n",
              "       [     0,      0,      1,  77044,  99281, 140574],\n",
              "       [     1,      0,      0,  64664, 139553, 137962],\n",
              "       [     0,      1,      0,  75328, 144135, 134050],\n",
              "       [     0,      0,      1,  72107, 127864, 353183],\n",
              "       [     0,      1,      0,  66051, 182645, 118148],\n",
              "       [     0,      0,      1,  65605, 153032, 107138],\n",
              "       [     0,      1,      0,  61994, 115641,  91131],\n",
              "       [     0,      0,      1,  61136, 152701,  88218],\n",
              "       [     1,      0,      0,  63408, 129219,  46085],\n",
              "       [     0,      1,      0,  55493, 103057, 214634],\n",
              "       [     1,      0,      0,  46426, 157693, 210797],\n",
              "       [     0,      0,      1,  46014,  85047, 205517],\n",
              "       [     0,      1,      0,  28663, 127056, 201126],\n",
              "       [     1,      0,      0,  44069,  51283, 197029],\n",
              "       [     0,      0,      1,  20229,  65947, 185265],\n",
              "       [     1,      0,      0,  38558,  82982, 174999],\n",
              "       [     1,      0,      0,  28754, 118546, 172795],\n",
              "       [     0,      1,      0,  27892,  84710, 164470],\n",
              "       [     1,      0,      0,  23640,  96189, 148001],\n",
              "       [     0,      0,      1,  15505, 127382,  35534],\n",
              "       [     1,      0,      0,  22177, 154806,  28334],\n",
              "       [     0,      0,      1,   1000, 124153,   1903],\n",
              "       [     0,      1,      0,   1315, 115816, 297114],\n",
              "       [     1,      0,      0,      0, 135426,      0],\n",
              "       [     0,      0,      1,    542,  51743,      0],\n",
              "       [     1,      0,      0,      0, 116983,  45173]])"
            ]
          },
          "metadata": {},
          "execution_count": 8
        }
      ]
    },
    {
      "cell_type": "code",
      "metadata": {
        "colab": {
          "base_uri": "https://localhost:8080/"
        },
        "id": "hSUaiCeQ2pPa",
        "outputId": "869385f5-f5a9-4d92-ae36-d2ed0c805ddf"
      },
      "source": [
        "data_set.shape"
      ],
      "execution_count": null,
      "outputs": [
        {
          "output_type": "execute_result",
          "data": {
            "text/plain": [
              "(50, 5)"
            ]
          },
          "metadata": {},
          "execution_count": 9
        }
      ]
    },
    {
      "cell_type": "code",
      "metadata": {
        "id": "KbEjCKBV2gxd"
      },
      "source": [
        "# Split the dataset into training and test set\n",
        "\n",
        "from sklearn.model_selection import train_test_split\n",
        "# test_size = 0.2 means that 20% of the data is testing dataset\n",
        "# and rest 80% of data is training dataset\n",
        "x_train, x_test, y_train, y_test = train_test_split(x,y,test_size = 0.2, random_state=0 ) # will give 4 values at the end. \n",
        "# random_state=0 means it choose training and testing randomly "
      ],
      "execution_count": null,
      "outputs": []
    },
    {
      "cell_type": "code",
      "metadata": {
        "colab": {
          "base_uri": "https://localhost:8080/"
        },
        "id": "X92mPCX9vBzS",
        "outputId": "9421e9e8-6eea-404c-b014-a875af7645f0"
      },
      "source": [
        "# fitting the MLR to the training set\n",
        "from sklearn.linear_model import LinearRegression\n",
        "regressor = LinearRegression() # create object\n",
        "regressor.fit(x_train,y_train)"
      ],
      "execution_count": null,
      "outputs": [
        {
          "output_type": "execute_result",
          "data": {
            "text/plain": [
              "LinearRegression()"
            ]
          },
          "metadata": {},
          "execution_count": 11
        }
      ]
    },
    {
      "cell_type": "code",
      "metadata": {
        "id": "RkXVtCqI4JHl",
        "colab": {
          "base_uri": "https://localhost:8080/"
        },
        "outputId": "edc6ef59-78f6-476d-a16f-06d537356806"
      },
      "source": [
        "# Predict the test set result\n",
        "y_pred = regressor.predict(x_test)\n",
        "y_pred"
      ],
      "execution_count": null,
      "outputs": [
        {
          "output_type": "execute_result",
          "data": {
            "text/plain": [
              "array([103015.24646785, 132581.94062687, 132448.09397396,  71975.74395634,\n",
              "       178537.52007853, 116161.05196901,  67851.47761322,  98791.74112204,\n",
              "       113969.41004647, 167921.22416079])"
            ]
          },
          "metadata": {},
          "execution_count": 12
        }
      ]
    },
    {
      "cell_type": "code",
      "metadata": {
        "colab": {
          "base_uri": "https://localhost:8080/"
        },
        "id": "Zg_b1Vop6uQk",
        "outputId": "b2e34f37-491a-48d4-e15c-de1ae1ccd728"
      },
      "source": [
        "y_test # actual values"
      ],
      "execution_count": null,
      "outputs": [
        {
          "output_type": "execute_result",
          "data": {
            "text/plain": [
              "28    103282.38\n",
              "11    144259.40\n",
              "10    146121.95\n",
              "41     77798.83\n",
              "2     191050.39\n",
              "27    105008.31\n",
              "38     81229.06\n",
              "31     97483.56\n",
              "22    110352.25\n",
              "4     166187.94\n",
              "Name: Profit, dtype: float64"
            ]
          },
          "metadata": {},
          "execution_count": 13
        }
      ]
    },
    {
      "cell_type": "code",
      "metadata": {
        "colab": {
          "base_uri": "https://localhost:8080/"
        },
        "id": "AY__oN_l62Zs",
        "outputId": "321d73ff-9e82-4cb6-f426-0cc3dfa0feac"
      },
      "source": [
        "y_pred # predicted values"
      ],
      "execution_count": null,
      "outputs": [
        {
          "output_type": "execute_result",
          "data": {
            "text/plain": [
              "array([103015.24646785, 132581.94062687, 132448.09397396,  71975.74395634,\n",
              "       178537.52007853, 116161.05196901,  67851.47761322,  98791.74112204,\n",
              "       113969.41004647, 167921.22416079])"
            ]
          },
          "metadata": {},
          "execution_count": 14
        }
      ]
    },
    {
      "cell_type": "code",
      "metadata": {
        "colab": {
          "base_uri": "https://localhost:8080/"
        },
        "id": "o09-xqaH7RBV",
        "outputId": "5d52cf85-ace5-4205-aad7-29b82341218a"
      },
      "source": [
        "# evaluate model performance \n",
        "from sklearn.metrics import r2_score\n",
        "accuracy = r2_score(y_test, regressor.predict(x_test))\n",
        "print('Accuracy: ',accuracy)"
      ],
      "execution_count": null,
      "outputs": [
        {
          "output_type": "stream",
          "name": "stdout",
          "text": [
            "Accuracy:  0.9347065984136423\n"
          ]
        }
      ]
    },
    {
      "cell_type": "code",
      "metadata": {
        "colab": {
          "base_uri": "https://localhost:8080/"
        },
        "id": "5Nb2-2va9Asw",
        "outputId": "cccd57ff-5f74-4a9a-b523-73fb8eb3ad01"
      },
      "source": [
        "# Predict profit\n",
        "\n",
        "california = int(input('Are you from California enter 1 if yes alse 0: '))\n",
        "florida = int(input('Are you from Florida enter 1 if yes alse 0: '))\n",
        "newyork = int(input('Are you from NewYork enter 1 if yes alse 0: '))\n",
        "r_d = int(input('Enter R&D spend: '))\n",
        "admin = int(input('Enter administration spend: '))\n",
        "market = int(input('Enter marketing spend: '))\n",
        "\n",
        "data = {'california':california,'florida':florida,'newyork':newyork, # create dictionaries to make it easier to create dataframe\n",
        "       'r_d':r_d,'admin':admin,'market':market}\n",
        "\n",
        "user_input = pd.DataFrame(data,index=[0],columns=['california','florida','newyork', # must mention the column same as key in dictionaries\n",
        "       'r_d','admin','market']) # create a dataframe to make it easier for prediction\n",
        "\n",
        "predict_profit = regressor.predict(user_input) # apply model to make prediction\n",
        "print(\"\\nPredicted Profit of Startup is: \",predict_profit[0]) # Mr Yash: if not specify the row, it will give row 0 and 1. but i've checked still give [0] only"
      ],
      "execution_count": null,
      "outputs": [
        {
          "output_type": "stream",
          "name": "stdout",
          "text": [
            "Are you from California enter 1 if yes alse 0: 1\n",
            "Are you from Florida enter 1 if yes alse 0: 0\n",
            "Are you from NewYork enter 1 if yes alse 0: 1\n",
            "Enter R&D spend: 230\n",
            "Enter administration spend: 356\n",
            "Enter marketing spend: 123\n",
            "\n",
            "Predicted Profit of Startup is:  43534.56914741471\n"
          ]
        },
        {
          "output_type": "stream",
          "name": "stderr",
          "text": [
            "/usr/local/lib/python3.7/dist-packages/sklearn/base.py:444: UserWarning: X has feature names, but LinearRegression was fitted without feature names\n",
            "  f\"X has feature names, but {self.__class__.__name__} was fitted without\"\n"
          ]
        }
      ]
    }
  ]
}